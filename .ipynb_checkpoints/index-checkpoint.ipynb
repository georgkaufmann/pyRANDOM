{
 "cells": [
  {
   "cell_type": "markdown",
   "id": "383108c6",
   "metadata": {},
   "source": [
    "<table>\n",
    "<tr><td><img style=\"height: 150px;\" src=\"images/geo_hydro1.jpg\"></td>\n",
    "<td bgcolor=\"#FFFFFF\">\n",
    "    <p style=\"font-size: xx-large; font-weight: 900; line-height: 100%\">pyRANDOM</p>\n",
    "    <p style=\"font-size: large; color: rgba(0,0,0,0.5);\"><b style=color:red;>RANDOM</b> <b style=color:red;>NUMBERS</b></p>\n",
    "    <p style=\"font-size: large; color: rgba(0,0,0,0.5);\">Georg Kaufmann</p>\n",
    "    </td>\n",
    "<td><img style=\"height: 150px;\" src=\"images/pyRANDOM.png\"></td>\n",
    "</tr>\n",
    "</table>\n",
    "\n",
    "----\n",
    "# `pyRANDOM`\n",
    "\n",
    "pyRANDOM, a collection of jupyter notebooks playing with **random numbers** ..."
   ]
  },
  {
   "cell_type": "markdown",
   "id": "fea533e9",
   "metadata": {},
   "source": [
    "----\n",
    "## Contents\n",
    "\n",
    "- Basics\n",
    "    - [Introduction](pyRANDOM_introduction.ipynb)\n",
    "    - [Statistics](pyRANDOM_statistics.ipynb)\n",
    "    - [Random-number generators](pyRANDOM_generators.ipynb)\n",
    "    - [Gaussion function](pyRANDOM_gaussian.ipynb)\n",
    "\n",
    "- Random walks\n",
    "    - [1D random walks](pyRANDOM_walk1D.ipynb)\n",
    "    - [2D random walks](pyRANDOM_walk2D.ipynb)\n",
    "    \n",
    "    \n",
    "- Travelling salesman\n",
    "    - [Introduction](pyRANDOM_traveling_intro.ipynb)\n",
    "    - [Setup](pyRANDOM_traveling_setup.ipynb)\n",
    "    - Solution strategies\n",
    "        - [Permutations](pyRANDOM_traveling_permutations.ipynb)\n",
    "        - [Random walk](pyRANDOM_traveling_random.ipynb)\n",
    "        - [Natural neighbors](pyRANDOM_traveling_neighbours.ipynb)\n",
    "    - [Best path for postal cities](pyRANDOM_traveling_cities.ipynb)\n",
    "\n",
    "- Diffusion-limited aggregation\n",
    "    - [Introduction](pyRANDOM_DiffLimAgg_intro.ipynb)\n",
    "    - [Setup](pyRANDOM_DiffLimAgg_setup.ipynb)\n",
    "    - [Random walks](pyRANDOM_DiffLimAgg_randomWalk.ipynb)\n",
    "    - Examples\n",
    "        - [Central seed](pyRANDOM_DiffLimAgg_central.ipynb)\n",
    "        - [Bottom seed]()\n",
    "\n",
    "- Fissure networks\n",
    "    - [Example run](pyRANDOM.ipynb)\n",
    "\n",
    "- Other\n",
    "    - [Libraries](libpyRANDOM.ipynb)\n"
   ]
  },
  {
   "cell_type": "markdown",
   "id": "b9ee8777",
   "metadata": {},
   "source": [
    "----"
   ]
  }
 ],
 "metadata": {
  "kernelspec": {
   "display_name": "Python 3 (ipykernel)",
   "language": "python",
   "name": "python3"
  },
  "language_info": {
   "codemirror_mode": {
    "name": "ipython",
    "version": 3
   },
   "file_extension": ".py",
   "mimetype": "text/x-python",
   "name": "python",
   "nbconvert_exporter": "python",
   "pygments_lexer": "ipython3",
   "version": "3.11.3"
  }
 },
 "nbformat": 4,
 "nbformat_minor": 5
}
