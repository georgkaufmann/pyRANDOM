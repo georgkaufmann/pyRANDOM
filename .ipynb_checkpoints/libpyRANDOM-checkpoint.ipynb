{
 "cells": [
  {
   "cell_type": "markdown",
   "id": "6c3d9c29-733e-40ac-a48d-8b63fd73cf79",
   "metadata": {},
   "source": [
    "<table>\n",
    "<tr><td><img style=\"height: 150px;\" src=\"images/geo_hydro1.jpg\"></td>\n",
    "<td bgcolor=\"#FFFFFF\">\n",
    "    <p style=\"font-size: xx-large; font-weight: 900; line-height: 100%\">pyRANDOM</p>\n",
    "    <p style=\"font-size: large; color: rgba(0,0,0,0.5);\"><b style=color:red;>RANDOM</b> <b style=color:red;>NUMBERS</b></p>\n",
    "    <p style=\"font-size: large; color: rgba(0,0,0,0.5);\">Georg Kaufmann</p>\n",
    "    </td>\n",
    "<td><img style=\"height: 150px;\" src=\"images/pyRANDOM.png\"></td>\n",
    "</tr>\n",
    "</table>\n",
    "\n",
    "----\n",
    "# `pyRANDOM`\n",
    "\n",
    "pyRANDOM, a collection of jupyter notebooks playing with **random numbers** ..."
   ]
  },
  {
   "cell_type": "code",
   "execution_count": 1,
   "id": "9e9dbe24-c73b-4761-89b9-3f9fc3e2595b",
   "metadata": {
    "tags": []
   },
   "outputs": [],
   "source": [
    "import libpyRANDOM"
   ]
  },
  {
   "cell_type": "code",
   "execution_count": null,
   "id": "cc639f60-a43c-4789-a915-6c42945a595a",
   "metadata": {
    "tags": []
   },
   "outputs": [],
   "source": [
    "help(libpyRANDOM)"
   ]
  },
  {
   "cell_type": "markdown",
   "id": "c99b640c-a155-46f3-9f56-d7615254ad94",
   "metadata": {},
   "source": [
    "----"
   ]
  }
 ],
 "metadata": {
  "kernelspec": {
   "display_name": "Python 3 (ipykernel)",
   "language": "python",
   "name": "python3"
  },
  "language_info": {
   "codemirror_mode": {
    "name": "ipython",
    "version": 3
   },
   "file_extension": ".py",
   "mimetype": "text/x-python",
   "name": "python",
   "nbconvert_exporter": "python",
   "pygments_lexer": "ipython3",
   "version": "3.11.3"
  }
 },
 "nbformat": 4,
 "nbformat_minor": 5
}
