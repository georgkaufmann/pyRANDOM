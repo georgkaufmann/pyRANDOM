{
 "cells": [
  {
   "cell_type": "markdown",
   "id": "c46eb663",
   "metadata": {},
   "source": [
    "<table>\n",
    "<tr><td><img style=\"height: 150px;\" src=\"images/geo_hydro1.jpg\"></td>\n",
    "<td bgcolor=\"#FFFFFF\">\n",
    "    <p style=\"font-size: xx-large; font-weight: 900; line-height: 100%\">pyRANDOM</p>\n",
    "    <p style=\"font-size: large; color: rgba(0,0,0,0.5);\"><b style=color:red;>RANDOM</b> <b style=color:red;>NUMBERS</b></p>\n",
    "    <p style=\"font-size: large; color: rgba(0,0,0,0.5);\">Georg Kaufmann</p>\n",
    "    </td>\n",
    "<td><img style=\"height: 150px;\" src=\"images/pyRANDOM.png\"></td>\n",
    "</tr>\n",
    "</table>\n",
    "\n",
    "----\n",
    "# `pyRANDOM`\n",
    "\n",
    "pyRANDOM, a collection of jupyter notebooks playing with **random numbers** ..."
   ]
  },
  {
   "cell_type": "markdown",
   "id": "d9358961",
   "metadata": {},
   "source": [
    "----\n",
    "# Diffusion-limited aggregation: bottom seed\n",
    "In this notebook, we explore the simple growth model of\n",
    "**diffusion-limited aggregation**."
   ]
  },
  {
   "cell_type": "code",
   "execution_count": 1,
   "id": "bc1b915e",
   "metadata": {},
   "outputs": [],
   "source": [
    "import numpy as np\n",
    "import matplotlib.pyplot as plt\n",
    "import libpyRANDOM"
   ]
  },
  {
   "cell_type": "markdown",
   "id": "ebf40fb0-033e-4f5e-bb4b-cba097209491",
   "metadata": {},
   "source": [
    "We now use the function `dlaRun()` for the diffusion-limited aggregation algorithm.\n",
    "\n",
    "We use a **bottom seed** as initial crystal, with `location=bottom`."
   ]
  },
  {
   "cell_type": "code",
   "execution_count": null,
   "id": "bd18907a-a4a2-41f5-b164-8474c7e74e52",
   "metadata": {
    "tags": []
   },
   "outputs": [],
   "source": [
    "nx = 101; ny =101\n",
    "saved_matrix = libpyRANDOM.dlaRun(nx,ny,ncount=120000,seed='cloud',location='bottom',path='div/bottom1',name='bottom1')\n",
    "print(saved_matrix.shape)"
   ]
  },
  {
   "cell_type": "code",
   "execution_count": null,
   "id": "a314622f-9677-4159-a533-67d537894475",
   "metadata": {
    "tags": []
   },
   "outputs": [],
   "source": [
    "nx = 101; ny =101\n",
    "saved_matrix = libpyRANDOM.dlaRun(nx,ny,ncount=120000,seed='cloud',location='bottom',weights=[1,1,1,97],path='div/bottom2',name='bottom2')\n",
    "print(saved_matrix.shape)"
   ]
  },
  {
   "cell_type": "code",
   "execution_count": 2,
   "id": "dcfe9e13-884b-4e87-977a-3b2286d54c41",
   "metadata": {
    "tags": []
   },
   "outputs": [
    {
     "name": "stdout",
     "output_type": "stream",
     "text": [
      "Figure saved: div/bottom3/bottom3-0000.png\n",
      "Figure saved: div/bottom3/bottom3-0001.png\n",
      "Figure saved: div/bottom3/bottom3-0002.png\n",
      "Figure saved: div/bottom3/bottom3-0003.png\n",
      "Figure saved: div/bottom3/bottom3-0004.png\n",
      "Crystal reached border\n",
      "(5, 101, 101)\n"
     ]
    }
   ],
   "source": [
    "nx = 101; ny =101\n",
    "saved_matrix = libpyRANDOM.dlaRun(nx,ny,ncount=120000,seed='lineEven',location='bottom',weights=[0,0,0,100],path='div/bottom3',name='bottom3')\n",
    "print(saved_matrix.shape)"
   ]
  },
  {
   "cell_type": "markdown",
   "id": "14633c36",
   "metadata": {},
   "source": [
    "----"
   ]
  }
 ],
 "metadata": {
  "kernelspec": {
   "display_name": "Python 3 (ipykernel)",
   "language": "python",
   "name": "python3"
  },
  "language_info": {
   "codemirror_mode": {
    "name": "ipython",
    "version": 3
   },
   "file_extension": ".py",
   "mimetype": "text/x-python",
   "name": "python",
   "nbconvert_exporter": "python",
   "pygments_lexer": "ipython3",
   "version": "3.11.3"
  }
 },
 "nbformat": 4,
 "nbformat_minor": 5
}
