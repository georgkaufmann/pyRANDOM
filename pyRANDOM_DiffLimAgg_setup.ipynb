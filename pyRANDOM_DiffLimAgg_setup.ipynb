{
 "cells": [
  {
   "cell_type": "markdown",
   "id": "c46eb663",
   "metadata": {},
   "source": [
    "<table>\n",
    "<tr><td><img style=\"height: 150px;\" src=\"images/geo_hydro1.jpg\"></td>\n",
    "<td bgcolor=\"#FFFFFF\">\n",
    "    <p style=\"font-size: xx-large; font-weight: 900; line-height: 100%\">pyRANDOM</p>\n",
    "    <p style=\"font-size: large; color: rgba(0,0,0,0.5);\"><b style=color:red;>RANDOM</b> <b style=color:red;>NUMBERS</b></p>\n",
    "    <p style=\"font-size: large; color: rgba(0,0,0,0.5);\">Georg Kaufmann</p>\n",
    "    </td>\n",
    "<td><img style=\"height: 150px;\" src=\"images/pyRANDOM.png\"></td>\n",
    "</tr>\n",
    "</table>\n",
    "\n",
    "----\n",
    "# `pyRANDOM`\n",
    "\n",
    "pyRANDOM, a collection of jupyter notebooks playing with **random numbers** ..."
   ]
  },
  {
   "cell_type": "markdown",
   "id": "d9358961",
   "metadata": {},
   "source": [
    "----\n",
    "# Diffusion-limited aggregation: Setup\n",
    "In this notebook, we explore the simple growth model of\n",
    "**diffusion-limited aggregation**."
   ]
  },
  {
   "cell_type": "code",
   "execution_count": 1,
   "id": "bc1b915e",
   "metadata": {},
   "outputs": [],
   "source": [
    "import numpy as np\n",
    "import matplotlib.pyplot as plt"
   ]
  },
  {
   "cell_type": "markdown",
   "id": "9434e6bc",
   "metadata": {},
   "source": [
    "----\n",
    "### Grid setup\n",
    "\n",
    "We start creating a regular grid with $nx \\times ny$ points. \n",
    "- 2D position arrays are `X` and `Y`\n",
    "- 2D matrix `matrix` marks field type"
   ]
  },
  {
   "cell_type": "code",
   "execution_count": 2,
   "id": "42a3e683",
   "metadata": {},
   "outputs": [],
   "source": [
    "def dlaCreateGrid(nx,ny,minx=-1,maxx=1,miny=-1,maxy=1):\n",
    "    \"\"\"\n",
    "    Diffusion-limited aggregation\n",
    "    setup of model grid in [-1,1] domain\n",
    "    input:\n",
    "      nx,ny   - number of grid points in x,y direction\n",
    "      minx,maxx - min/max of x side\n",
    "      miny,maxy - min/max of y side\n",
    "    output:\n",
    "      X,Y       - 2D arrays of coordinates\n",
    "      matrix    - 2D array of state of grid points\n",
    "    \"\"\"\n",
    "    x = np.linspace(minx,maxx,nx)\n",
    "    y = np.linspace(miny,maxy,ny)\n",
    "    X,Y = np.meshgrid(x,y,indexing='ij')\n",
    "    matrix = np.zeros_like(X)\n",
    "    return X,Y,matrix"
   ]
  },
  {
   "cell_type": "markdown",
   "id": "d732c7ab",
   "metadata": {},
   "source": [
    "----\n",
    "## Boundary conditions\n",
    "\n",
    "Set boundary condition and initial seed\n",
    "- $=0$: undefined state\n",
    "- $<0$: boundary\n",
    "- $=1$: seed\n",
    "- $>1$: growth"
   ]
  },
  {
   "cell_type": "code",
   "execution_count": 9,
   "id": "563cc08b",
   "metadata": {},
   "outputs": [],
   "source": [
    "def dlaCreateBC(nx,ny,matrix,location='center'):\n",
    "    \"\"\"\n",
    "    Diffusion-limited aggregation\n",
    "    setup of boundary conditions\n",
    "    input:\n",
    "      nx,ny     - number of grid points in x,y direction\n",
    "      matrix    - 2D array of state of grid points\n",
    "      location  - marker for seed location\n",
    "    output:\n",
    "      matrix    - 2D array of state of grid points (modified)\n",
    "    \"\"\"\n",
    "    \n",
    "    # boundary nodes\n",
    "    matrix[:,0]    = -2\n",
    "    matrix[:,ny-1] = -2\n",
    "    matrix[0,:]    = -2\n",
    "    matrix[nx-1,:] = -2\n",
    "    # seed points\n",
    "    if (location == 'center'):\n",
    "        matrix[int(nx/2),int(ny/2)] = 1\n",
    "    elif (location == 'bottom'):\n",
    "        matrix[0,:]    = 1\n",
    "    return matrix"
   ]
  },
  {
   "cell_type": "code",
   "execution_count": 10,
   "id": "28b6913b-99e7-417f-9a06-f3cea0b80952",
   "metadata": {
    "tags": []
   },
   "outputs": [],
   "source": [
    "nx = 51; ny =51\n",
    "X,Y,matrix = dlaCreateGrid(nx,ny)\n",
    "matrix = dlaCreateBC(nx,ny,matrix,location='bottom')"
   ]
  },
  {
   "cell_type": "code",
   "execution_count": 11,
   "id": "10855fb8-f6fd-4fb5-9c45-1f810605681b",
   "metadata": {
    "tags": []
   },
   "outputs": [
    {
     "data": {
      "text/plain": [
       "<matplotlib.colorbar.Colorbar at 0x1174357d0>"
      ]
     },
     "execution_count": 11,
     "metadata": {},
     "output_type": "execute_result"
    },
    {
     "data": {
      "image/png": "[encoded data removed]",
      "text/plain": [
       "<Figure size 640x480 with 2 Axes>"
      ]
     },
     "metadata": {},
     "output_type": "display_data"
    }
   ],
   "source": [
    "cbar1=plt.imshow(matrix,origin='lower',cmap='jet')\n",
    "plt.colorbar(cbar1)"
   ]
  },
  {
   "cell_type": "markdown",
   "id": "59b2707d",
   "metadata": {},
   "source": [
    "Literature:\n",
    "\n",
    "- [Physics today](https://web.archive.org/web/20070405094836/http://aip.org/pt/vol-53/iss-11/p36.html)"
   ]
  },
  {
   "cell_type": "markdown",
   "id": "14633c36",
   "metadata": {},
   "source": [
    "----"
   ]
  }
 ],
 "metadata": {
  "kernelspec": {
   "display_name": "Python 3 (ipykernel)",
   "language": "python",
   "name": "python3"
  },
  "language_info": {
   "codemirror_mode": {
    "name": "ipython",
    "version": 3
   },
   "file_extension": ".py",
   "mimetype": "text/x-python",
   "name": "python",
   "nbconvert_exporter": "python",
   "pygments_lexer": "ipython3",
   "version": "3.11.3"
  }
 },
 "nbformat": 4,
 "nbformat_minor": 5
}
