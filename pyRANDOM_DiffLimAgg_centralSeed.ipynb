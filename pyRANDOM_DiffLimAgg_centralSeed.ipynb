{
 "cells": [
  {
   "cell_type": "markdown",
   "id": "c46eb663",
   "metadata": {},
   "source": [
    "<table>\n",
    "<tr><td><img style=\"height: 150px;\" src=\"images/geo_hydro1.jpg\"></td>\n",
    "<td bgcolor=\"#FFFFFF\">\n",
    "    <p style=\"font-size: xx-large; font-weight: 900; line-height: 100%\">pyRANDOM</p>\n",
    "    <p style=\"font-size: large; color: rgba(0,0,0,0.5);\"><b style=color:red;>RANDOM</b> <b style=color:red;>NUMBERS</b></p>\n",
    "    <p style=\"font-size: large; color: rgba(0,0,0,0.5);\">Georg Kaufmann</p>\n",
    "    </td>\n",
    "<td><img style=\"height: 150px;\" src=\"images/pyRANDOM.png\"></td>\n",
    "</tr>\n",
    "</table>\n",
    "\n",
    "----\n",
    "# `pyRANDOM`\n",
    "\n",
    "pyRANDOM, a collection of jupyter notebooks playing with **random numbers** ..."
   ]
  },
  {
   "cell_type": "markdown",
   "id": "d9358961",
   "metadata": {},
   "source": [
    "----\n",
    "# Diffusion-limited aggregation: central seed\n",
    "In this notebook, we explore the simple growth model of\n",
    "**diffusion-limited aggregation**."
   ]
  },
  {
   "cell_type": "code",
   "execution_count": 1,
   "id": "bc1b915e",
   "metadata": {},
   "outputs": [],
   "source": [
    "import numpy as np\n",
    "import matplotlib.pyplot as plt\n",
    "import sys,os\n",
    "import ipywidgets as widgets\n",
    "from ipywidgets import interactive,fixed\n",
    "import libpyRANDOM"
   ]
  },
  {
   "cell_type": "markdown",
   "id": "41634305-0a3c-4410-bcfd-4eefdda52e81",
   "metadata": {},
   "source": [
    "We now define a function for the diffusion-limited aggregation algorithm, `dlaRun()`.\n",
    "\n",
    "We use a **central seed** as initial crystal, with `location=center`.\n",
    "\n",
    "The following talks are needed:\n",
    "- Define `weights` as array to weight random direction. The pre-defined array `[25,25,25,25]` defines\n",
    "equal weights for the directions **left**, **top**, **Right**, and **bottom**. \n",
    "- Create grid and matrix, call `dlaCreateGrid()`\n",
    "- Create boundary conditions, call `dlaCreateBC()`\n",
    "- save initial state to `saved_matrix` and plot.\n",
    "- Loop over steps\n",
    "    - stops either, if maximum steps `ncount` are taken\n",
    "    - or if growth of crytal reaches boundary\n",
    "- In the loop,\n",
    "    - we test, of a random point is close to a crystal point, then the new point attaches to the crytal, a new random ealk then starts\n",
    "    - we test, if the crystal reaches the boundary, then we stop\n",
    "- Random points can be started\n",
    "    - in the entire domain (area)\n",
    "    - in a restricted area in the top part (cloud)\n",
    "    - only at odd points (lineOdd)\n",
    "    - more choices can be added ..."
   ]
  },
  {
   "cell_type": "code",
   "execution_count": 2,
   "id": "61c4effb-91f2-4bbc-bc1c-a3222302979d",
   "metadata": {},
   "outputs": [],
   "source": [
    "def dlaRun(nx,ny,nsaved=1000,ncount=10000,seed='area',location='center',path='div/dla',name='dla',**kwargs):\n",
    "    \"\"\"\n",
    "    Diffusion-limited aggregation\n",
    "    run complete model\n",
    "    input:\n",
    "      nx,ny   - number of grid points in x,y direction\n",
    "      nsaved  - save interval\n",
    "      ncount  - max number of steps taken\n",
    "    output:\n",
    "      saved_matrix - 2D array of state of grid points for saved steps\n",
    "    \"\"\"\n",
    "    # define weights for left,top,right,bottom direction\n",
    "    weights = [25,25,25,25]\n",
    "    for i in kwargs:\n",
    "        if (i=='weights'): weights = kwargs[i]\n",
    "    if (sum(weights)>100): sys.exit('weights > 100')\n",
    "    # check for directory for plotting\n",
    "    if not os.path.isdir(path):\n",
    "        os.mkdir(path)\n",
    "    # create grid and set boundary conditions\n",
    "    X,Y,matrix = libpyRANDOM.dlaCreateGrid(nx,ny)\n",
    "    matrix = libpyRANDOM.dlaCreateBC(nx,ny,matrix,location=location)\n",
    "    # create random-number generator\n",
    "    rng = np.random.default_rng(seed=12)\n",
    "    # define 3D array for saving time steps, fill with initial time step\n",
    "    saved_matrix = np.array([matrix])\n",
    "    # initial step\n",
    "    icount = 0\n",
    "    isaved = 0\n",
    "    stop   = False\n",
    "    libpyRANDOM.dlaPlot(isaved,matrix,path=path,name=name)\n",
    "    # loop over random walks\n",
    "    while (not stop):\n",
    "        icount += 1\n",
    "        # seed with initial point\n",
    "        if (seed == 'area'):\n",
    "            i = rng.integers(1,nx)\n",
    "            j = rng.integers(1,ny)\n",
    "        elif (seed == 'cloud'):\n",
    "            i = rng.integers(2,nx-2)\n",
    "            j = rng.integers(ny-4,ny)\n",
    "        elif (seed == 'lineEven'):\n",
    "            i = rng.integers(1,nx/2)*2\n",
    "            j = ny-2\n",
    "        point = np.array([[X[i,j],Y[i,j]]])\n",
    "        # loop over single random point\n",
    "        onEdge    = False\n",
    "        onCrystal = False\n",
    "        while (not onEdge and not onCrystal):\n",
    "            # check if point is on edge, then mark ...\n",
    "            if (i == 0): onEdge = True\n",
    "            if (i == nx-1): onEdge = True\n",
    "            if (j == 0): onEdge = True\n",
    "            if (j == ny-1): onEdge = True\n",
    "            # ... and test, if point is not on edge\n",
    "            if (not onEdge):\n",
    "                # check if point is close to cluster, then crystallize\n",
    "                if (matrix[i-1,j]>=1):\n",
    "                    onCrystal = True\n",
    "                    matrix[i,j]=icount\n",
    "                elif (matrix[i+1,j]>=1):\n",
    "                    onCrystal = True\n",
    "                    matrix[i,j]=icount\n",
    "                elif (matrix[i,j-1]>=1):\n",
    "                    onCrystal = True\n",
    "                    matrix[i,j]=icount\n",
    "                elif (matrix[i,j+1]>=1):\n",
    "                    onCrystal = True\n",
    "                    matrix[i,j]=icount\n",
    "                # if new point has crystallized, check if its along edge, then stop\n",
    "                if (onCrystal):\n",
    "                    if (matrix[i-1,j]==-2): stop = True\n",
    "                    if (matrix[i+1,j]==-2): stop = True\n",
    "                    if (matrix[i,j-1]==-2): stop = True\n",
    "                    if (matrix[i,j+1]==-2): stop = True\n",
    "                    if (stop==True): print('Crystal reached border')\n",
    "            # proceed with random walk, check if edge is reached\n",
    "            if (not onCrystal and not onEdge):\n",
    "                decide = rng.uniform()*100\n",
    "                if (decide < weights[0]):\n",
    "                    i = i -1\n",
    "                elif (decide < weights[0]+weights[1]):\n",
    "                    j = j +1\n",
    "                elif (decide < weights[0]+weights[1]+weights[2]):\n",
    "                    i = i +1\n",
    "                else:\n",
    "                    j = j -1\n",
    "                if (not onEdge):\n",
    "                    point = np.append(point,[[X[i,j],Y[i,j]]],axis=0)\n",
    "        # stop, if maximum counter is reached\n",
    "        if (icount > ncount):\n",
    "            stop = True\n",
    "        # save to saved_matrix\n",
    "        if((icount % nsaved)==0):\n",
    "            isaved += 1\n",
    "            libpyRANDOM.dlaPlot(isaved,matrix,path=path,name=name)\n",
    "            saved_matrix = np.append(saved_matrix,[matrix],axis=0)\n",
    "    return saved_matrix"
   ]
  },
  {
   "cell_type": "code",
   "execution_count": 3,
   "id": "28b6913b-99e7-417f-9a06-f3cea0b80952",
   "metadata": {
    "tags": []
   },
   "outputs": [
    {
     "name": "stdout",
     "output_type": "stream",
     "text": [
      "Figure saved: div/central1/central1-0000.png\n",
      "Figure saved: div/central1/central1-0001.png\n",
      "Figure saved: div/central1/central1-0002.png\n",
      "Figure saved: div/central1/central1-0003.png\n",
      "Figure saved: div/central1/central1-0004.png\n",
      "Figure saved: div/central1/central1-0005.png\n",
      "Figure saved: div/central1/central1-0006.png\n",
      "Figure saved: div/central1/central1-0007.png\n",
      "Figure saved: div/central1/central1-0008.png\n",
      "Figure saved: div/central1/central1-0009.png\n",
      "Figure saved: div/central1/central1-0010.png\n",
      "Figure saved: div/central1/central1-0011.png\n",
      "Figure saved: div/central1/central1-0012.png\n",
      "(13, 201, 201)\n"
     ]
    }
   ],
   "source": [
    "nx = 201; ny =201\n",
    "saved_matrix = dlaRun(nx,ny,ncount=12000,location='center',path='div/central1',name='central1')\n",
    "print(saved_matrix.shape)"
   ]
  },
  {
   "cell_type": "markdown",
   "id": "ac97d64b-8923-494a-8ca1-7c796ba536db",
   "metadata": {},
   "source": [
    "Our example creates a crystal, starting from the center (`location=center`), and then growth as in the\n",
    "cooper crytal example from the introduction."
   ]
  },
  {
   "cell_type": "markdown",
   "id": "14633c36",
   "metadata": {},
   "source": [
    "----"
   ]
  }
 ],
 "metadata": {
  "kernelspec": {
   "display_name": "Python 3 (ipykernel)",
   "language": "python",
   "name": "python3"
  },
  "language_info": {
   "codemirror_mode": {
    "name": "ipython",
    "version": 3
   },
   "file_extension": ".py",
   "mimetype": "text/x-python",
   "name": "python",
   "nbconvert_exporter": "python",
   "pygments_lexer": "ipython3",
   "version": "3.11.3"
  }
 },
 "nbformat": 4,
 "nbformat_minor": 5
}
