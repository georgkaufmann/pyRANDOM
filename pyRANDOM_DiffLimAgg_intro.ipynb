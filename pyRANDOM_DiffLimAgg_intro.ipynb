{
 "cells": [
  {
   "cell_type": "markdown",
   "id": "c46eb663",
   "metadata": {},
   "source": [
    "<table>\n",
    "<tr><td><img style=\"height: 150px;\" src=\"images/geo_hydro1.jpg\"></td>\n",
    "<td bgcolor=\"#FFFFFF\">\n",
    "    <p style=\"font-size: xx-large; font-weight: 900; line-height: 100%\">pyRANDOM</p>\n",
    "    <p style=\"font-size: large; color: rgba(0,0,0,0.5);\"><b style=color:red;>RANDOM</b> <b style=color:red;>NUMBERS</b></p>\n",
    "    <p style=\"font-size: large; color: rgba(0,0,0,0.5);\">Georg Kaufmann</p>\n",
    "    </td>\n",
    "<td><img style=\"height: 150px;\" src=\"images/pyRANDOM.png\"></td>\n",
    "</tr>\n",
    "</table>\n",
    "\n",
    "----\n",
    "# `pyRANDOM`\n",
    "\n",
    "pyRANDOM, a collection of jupyter notebooks playing with **random numbers** ..."
   ]
  },
  {
   "cell_type": "markdown",
   "id": "d9358961",
   "metadata": {},
   "source": [
    "----\n",
    "# Diffusion-limited aggregation: Introduction\n",
    "In this notebook, we explore the simple growth model of\n",
    "**diffusion-limited aggregation**."
   ]
  },
  {
   "cell_type": "code",
   "execution_count": 1,
   "id": "bc1b915e",
   "metadata": {},
   "outputs": [],
   "source": [
    "import numpy as np\n",
    "import matplotlib.pyplot as plt"
   ]
  },
  {
   "cell_type": "markdown",
   "id": "9434e6bc",
   "metadata": {},
   "source": [
    "----\n",
    "## Introduction\n",
    "\n",
    "**Diffusion-limited aggregation** has been introduced by\n",
    "[Witten Jr. and Sander (1981)](https://doi.org/10.1103%2FPhysRevLett.47.1400)\n",
    "as a numerical model to describe crystal growth.\n",
    "\n",
    "The model is set up with a seed crystal, and then growth is driven \n",
    "by diffusion and docking of crytals to the main part.\n",
    "\n",
    "The diffusion is described as **Brownian motion**, and\n",
    "simulated with **random-walks** in two dimensions.\n",
    "\n",
    "Witten, T. A.; Sander, L. M. (1981). \"Diffusion-Limited Aggregation, a Kinetic Critical Phenomenon\". Physical Review Letters. 47 (19): 1400–1403.\n",
    "\n",
    "The image below shows as example the experimental growth of a copper crystal\n",
    "from a copper sulfate solution in an electrolyte cell [(from)](https://commons.wikimedia.org/wiki/File:DLA_Cluster.JPG).\n",
    "\n",
    "<img src='images/DLA_Copper_KevinJohnson_CC-BY-SA3.jpg' style='width:15cm;'>\n",
    "\n"
   ]
  },
  {
   "cell_type": "markdown",
   "id": "59b2707d",
   "metadata": {},
   "source": [
    "Literature:\n",
    "\n",
    "- [Witten, T. A.; Sander, L. M. (1981). \"Diffusion-Limited Aggregation, a Kinetic Critical Phenomenon\". Physical Review Letters. 47 (19): 1400–1403.](https://doi.org/10.1103%2FPhysRevLett.47.1400)\n",
    "- [Sander, L.M. (2000): Diffusion-limited aggregation: A kinetic critical phenomenon?, Contemporary Physics, 41:4, 203-218](https://www.thp.uni-koeln.de/krug/teaching-Dateien/SS2012/Sander2000.pdf)"
   ]
  },
  {
   "cell_type": "markdown",
   "id": "14633c36",
   "metadata": {},
   "source": [
    "----"
   ]
  }
 ],
 "metadata": {
  "kernelspec": {
   "display_name": "Python 3 (ipykernel)",
   "language": "python",
   "name": "python3"
  },
  "language_info": {
   "codemirror_mode": {
    "name": "ipython",
    "version": 3
   },
   "file_extension": ".py",
   "mimetype": "text/x-python",
   "name": "python",
   "nbconvert_exporter": "python",
   "pygments_lexer": "ipython3",
   "version": "3.11.3"
  }
 },
 "nbformat": 4,
 "nbformat_minor": 5
}
